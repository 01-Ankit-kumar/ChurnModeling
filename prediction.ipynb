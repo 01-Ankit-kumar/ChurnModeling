{
 "cells": [
  {
   "cell_type": "code",
   "execution_count": 8,
   "metadata": {},
   "outputs": [
    {
     "name": "stderr",
     "output_type": "stream",
     "text": [
      "WARNING:absl:Compiled the loaded model, but the compiled metrics have yet to be built. `model.compile_metrics` will be empty until you train or evaluate the model.\n",
      "d:\\AKAnaconda\\envs\\venvChurn\\lib\\site-packages\\sklearn\\utils\\validation.py:2739: UserWarning: X does not have valid feature names, but OneHotEncoder was fitted with feature names\n",
      "  warnings.warn(\n"
     ]
    },
    {
     "name": "stdout",
     "output_type": "stream",
     "text": [
      "\u001b[1m1/1\u001b[0m \u001b[32m━━━━━━━━━━━━━━━━━━━━\u001b[0m\u001b[37m\u001b[0m \u001b[1m0s\u001b[0m 140ms/step\n",
      "the customer is likely to churn\n"
     ]
    }
   ],
   "source": [
    "import pandas as pd\n",
    "from sklearn.model_selection import train_test_split\n",
    "from sklearn.preprocessing import StandardScaler,LabelEncoder,OneHotEncoder\n",
    "from tensorflow.keras.models import load_model\n",
    "import pickle\n",
    "## load the trained model,scaler pickle,onehot\n",
    "model = load_model('model.h5')\n",
    "\n",
    "## load the encoder and scaler\n",
    "\n",
    "with open('Label_encoder_gender.pkl','rb') as file:\n",
    "    Label_encoder_gender = pickle.load(file)\n",
    "with open('onehot_encoder_geo.pkl','rb') as file:\n",
    "    onehot_encoder_geo = pickle.load(file)\n",
    "with open('scaler.pkl','rb') as file:\n",
    "    scaler = pickle.load(file)\n",
    "## example input data \n",
    "input_data = {\n",
    "        'CreditScore': 450,  # Low credit score to indicate financial issues\n",
    "        'Geography': \"Germany\",  # Assuming customers in Germany have higher churn risk in this context\n",
    "        'Gender': \"Male\",  # Assuming gender might have a different churn rate\n",
    "        'Age': 55,  # Older customers might have different needs or instability\n",
    "        'Tenure': 2,  # Short tenure indicating a new customer\n",
    "        'Balance': 2000,  # Average balance\n",
    "        'NumOfProducts': 1,  # Fewer products indicating lesser engagement\n",
    "        'HasCrCard': 0,  # No credit card indicating potential credit issues or lower engagement\n",
    "        'IsActiveMember': 0,  # Not an active member indicating low engagement\n",
    "        'EstimatedSalary': 2000  # Lower salary might indicate financial instability\n",
    "}\n",
    "\n",
    "onehot_encoded_geo = onehot_encoder_geo.transform([[input_data['Geography']]])\n",
    "geo_encoded_df = pd.DataFrame(onehot_encoded_geo,columns = onehot_encoder_geo.get_feature_names_out(['Geography']))\n",
    "# geo_encoded_df\n",
    "input_df = pd.DataFrame([input_data])\n",
    "# input_df\n",
    "input_df['Gender'] = Label_encoder_gender.transform(input_df['Gender'])\n",
    "# input_df\n",
    "## concatanation with one hot encoded data \n",
    "input_df = pd.concat([input_df,geo_encoded_df],axis = 1)\n",
    "input_df.drop(\"Geography\",axis=1,inplace=True)\n",
    "# input_df\n",
    "## scaling the input data\n",
    "\n",
    "input_scaled = scaler.transform(input_df)\n",
    "# input_scaled\n",
    "## predict churn \n",
    "prediction = model.predict(input_scaled)\n",
    "# prediction\n",
    "prediction_probab = prediction[0][0]\n",
    "# prediction_probab\n",
    "if prediction_probab>0.5:\n",
    "    print(\"the customer is likely to churn\")\n",
    "else:\n",
    "    print(\"not likely to churn\")\n"
   ]
  }
 ],
 "metadata": {
  "kernelspec": {
   "display_name": "venvChurn",
   "language": "python",
   "name": "python3"
  },
  "language_info": {
   "codemirror_mode": {
    "name": "ipython",
    "version": 3
   },
   "file_extension": ".py",
   "mimetype": "text/x-python",
   "name": "python",
   "nbconvert_exporter": "python",
   "pygments_lexer": "ipython3",
   "version": "3.10.16"
  }
 },
 "nbformat": 4,
 "nbformat_minor": 2
}
